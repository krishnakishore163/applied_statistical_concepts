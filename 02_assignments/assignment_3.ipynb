{
 "cells": [
  {
   "cell_type": "markdown",
   "id": "7b0bcac6-5086-4f4e-928a-570a9ff7ae58",
   "metadata": {},
   "source": [
    "# Assignment 3"
   ]
  },
  {
   "cell_type": "markdown",
   "id": "5fce0350-2a17-4e93-8d4c-0b8748fdfc32",
   "metadata": {},
   "source": [
    "As before, if a question can be answered with 'yes/no', or a numeric value, you may simply state as much. If you incorporate code from the internet (which is not required and generally not advisable), please cite the source within your code (providing a URL is sufficient).\n",
    "\n",
    "We will go through comparable code and concepts in the live learning session. If you run into trouble, start by using the help `help()` function in Python, to get information about the datasets and function in question. The internet is also a great resource when coding (though note that no outside searches are required by the assignment!). If you do incorporate code from the internet, please cite the source within your code (providing a URL is sufficient).\n",
    "\n",
    "Please bring questions that you cannot work out on your own to office hours, work periods or share with your peers on Slack. We will work with you through the issue."
   ]
  },
  {
   "cell_type": "code",
   "execution_count": 1,
   "id": "b92f7c91",
   "metadata": {},
   "outputs": [],
   "source": [
    "import numpy as np\n",
    "import pandas as pd\n",
    "import matplotlib.pyplot as plt\n",
    "import statsmodels.api as sm"
   ]
  },
  {
   "cell_type": "markdown",
   "id": "d7fff1dd-e4ce-4a60-96a0-d08136e9bf5e",
   "metadata": {},
   "source": [
    "### Question 1: Resampling via Bootstrapping\n",
    "\n",
    "Now, we'll use the `iris` dataset, which we will add to Python using the `statsmodels` library. As always, start by reviewing a description of the dataset, by printing the dataset."
   ]
  },
  {
   "cell_type": "code",
   "execution_count": 2,
   "id": "47f4dcf5-0d4c-41ea-892d-d9f2c1aa1859",
   "metadata": {},
   "outputs": [],
   "source": [
    "# Import\n",
    "iris = sm.datasets.get_rdataset('iris', 'datasets')\n",
    "df = pd.DataFrame(iris.data)"
   ]
  },
  {
   "cell_type": "code",
   "execution_count": 3,
   "id": "b9e15eeb",
   "metadata": {},
   "outputs": [
    {
     "name": "stdout",
     "output_type": "stream",
     "text": [
      "   Sepal.Length  Sepal.Width  Petal.Length  Petal.Width Species\n",
      "0           5.1          3.5           1.4          0.2  setosa\n",
      "1           4.9          3.0           1.4          0.2  setosa\n",
      "2           4.7          3.2           1.3          0.2  setosa\n",
      "3           4.6          3.1           1.5          0.2  setosa\n",
      "4           5.0          3.6           1.4          0.2  setosa\n"
     ]
    }
   ],
   "source": [
    "print(df.head())"
   ]
  },
  {
   "cell_type": "markdown",
   "id": "7717a32c",
   "metadata": {},
   "source": [
    "_(i)_ Create an `alpha_func(D, idx)` function which takes the `Sepal`'s `width` and `length` to calculate for alpha"
   ]
  },
  {
   "cell_type": "code",
   "execution_count": 4,
   "id": "f3da5483",
   "metadata": {},
   "outputs": [
    {
     "name": "stdout",
     "output_type": "stream",
     "text": [
      "Bootstrap Mean Alpha: 0.5644042222944834\n",
      "Bootstrap SE Alpha: 0.055562862095136174\n"
     ]
    }
   ],
   "source": [
    "\n",
    "# Define the alpha_func(D, idx) function\n",
    "def alpha_func(D, idx):\n",
    "    # Extract the relevant columns\n",
    "    sepal_length = D.iloc[idx]['Sepal.Length']\n",
    "    sepal_width = D.iloc[idx]['Sepal.Width']\n",
    "    \n",
    "    # Calculate alpha\n",
    "    alpha = (sepal_length.var() - sepal_width.var()) / (sepal_length.var() + sepal_width.var())\n",
    "    \n",
    "    return alpha\n",
    "\n",
    "# Number of bootstrap samples\n",
    "n_bootstrap_samples = 1000\n",
    "\n",
    "# Store bootstrap estimates of alpha\n",
    "bootstrap_alphas = np.empty(n_bootstrap_samples)\n",
    "\n",
    "# Perform bootstrap sampling\n",
    "np.random.seed(42)  # For reproducibility\n",
    "for i in range(n_bootstrap_samples):\n",
    "    bootstrap_indices = np.random.choice(df.index, size=len(df), replace=True)\n",
    "    bootstrap_alphas[i] = alpha_func(df, bootstrap_indices)\n",
    "\n",
    "# Calculate the mean and standard error of the bootstrap estimates\n",
    "bootstrap_mean_alpha = np.mean(bootstrap_alphas)\n",
    "bootstrap_se_alpha = np.std(bootstrap_alphas)\n",
    "\n",
    "print(f\"Bootstrap Mean Alpha: {bootstrap_mean_alpha}\")\n",
    "print(f\"Bootstrap SE Alpha: {bootstrap_se_alpha}\")\n"
   ]
  },
  {
   "cell_type": "markdown",
   "id": "ff94d66b",
   "metadata": {},
   "source": [
    "Test the code below"
   ]
  },
  {
   "cell_type": "code",
   "execution_count": 5,
   "id": "eda715cd",
   "metadata": {},
   "outputs": [
    {
     "data": {
      "text/plain": [
       "0.28485969761629365"
      ]
     },
     "execution_count": 5,
     "metadata": {},
     "output_type": "execute_result"
    }
   ],
   "source": [
    "alpha_func(df, range(100))"
   ]
  },
  {
   "cell_type": "markdown",
   "id": "f338b14e",
   "metadata": {},
   "source": [
    "_(ii)_ Construct a new bootstrap data set and recompute alpha"
   ]
  },
  {
   "cell_type": "code",
   "execution_count": 6,
   "id": "34ee835f",
   "metadata": {},
   "outputs": [
    {
     "data": {
      "text/plain": [
       "0.4169345232056992"
      ]
     },
     "execution_count": 6,
     "metadata": {},
     "output_type": "execute_result"
    }
   ],
   "source": [
    "rng = np.random.default_rng(0)\n",
    "alpha_func(df,\n",
    "           rng.choice(100,\n",
    "                      100,\n",
    "                      replace=True))"
   ]
  },
  {
   "cell_type": "markdown",
   "id": "056080ff-7aec-41aa-bb61-763b390e4cf2",
   "metadata": {},
   "source": [
    "Imagine we are analysts working for a shipping company. The company wants to know the average length of iris' petals, to inform space allotment on an upcoming shipment. The relevant variable in the dataset is `Sepal.Length`. \n",
    "\n",
    "_(iii)_ Why is it (perhaps) not sufficient to simply calculate the mean of `Sepal.Length`? What more information will preforming a bootstrap provide to us?  \n",
    "\n",
    "Simply calculating the mean of Sepal.Length provides us with an estimate of the average length of iris petals. However, relying solely on this point estimate might not be sufficient for several reasons:\n",
    "\n",
    "Sampling Variability: The mean calculated from the sample data is subject to sampling variability. The sample we have might not perfectly represent the population, and thus, the mean might differ if we were to take different samples from the same population.\n",
    "\n",
    "Uncertainty and Confidence Intervals: Calculating just the mean does not give us any information about the uncertainty associated with this estimate. We don't know how much the sample mean might fluctuate from the true population mean. Bootstrap methods allow us to estimate the sampling distribution of the mean, providing a way to construct confidence intervals. These intervals give us a range within which we can be reasonably sure the true population mean lies.\n",
    "\n",
    "Robustness: Bootstrapping helps to check the robustness of our estimate. If our sample is not perfectly representative due to outliers or peculiarities, bootstrapping can help reveal the stability of our mean estimate.\n",
    "\n",
    "What More Information Will Performing a Bootstrap Provide?\n",
    "Estimation of the Sampling Distribution: By resampling the data with replacement and recalculating the mean for each resample, bootstrapping generates an empirical distribution of the mean. This distribution approximates the true sampling distribution of the mean.\n",
    "\n",
    "Confidence Intervals: From the bootstrap distribution of the mean, we can calculate confidence intervals (e.g., 95% confidence intervals). This tells us the range within which the true mean is likely to lie with a certain level of confidence.\n",
    "\n",
    "Standard Error of the Mean: Bootstrapping allows us to estimate the standard error of the mean, which quantifies the amount of variation in the sample mean estimate.\n",
    "\n",
    "Insight into Data Variability: It provides insights into how much the estimate of the mean would vary if we were to repeat the sampling process multiple times.\n",
    "\n",
    "\n",
    "_(iv)_ We can perform bootstrapping in Python by defining a simple function using `boot_SE()` for computing the bootstrap standard error. Remember, because bootstrapping involves randomness, we must first set a seed for reproducibility!"
   ]
  },
  {
   "cell_type": "code",
   "execution_count": 7,
   "id": "77540f76-7747-4dba-8e77-e1ded54af536",
   "metadata": {},
   "outputs": [
    {
     "name": "stdout",
     "output_type": "stream",
     "text": [
      "Bootstrap SE of the mean Sepal Length: 0.06702629798652003\n"
     ]
    }
   ],
   "source": [
    "# Add your code here to set the seed\n",
    "import statsmodels.api as sm\n",
    "import pandas as pd\n",
    "import numpy as np\n",
    "\n",
    "# Load the iris dataset\n",
    "iris = sm.datasets.get_rdataset('iris', 'datasets')\n",
    "df = pd.DataFrame(iris.data)\n",
    "\n",
    "# Define the boot_SE function\n",
    "def boot_SE(data, func, n_bootstrap_samples=1000, seed=None):\n",
    "    # Set seed for reproducibility\n",
    "    np.random.seed(seed)\n",
    "    \n",
    "    # Number of observations in the dataset\n",
    "    n = len(data)\n",
    "    \n",
    "    # Initialize an empty array to store bootstrap estimates\n",
    "    bootstrap_estimates = np.empty(n_bootstrap_samples)\n",
    "    \n",
    "    # Perform bootstrap sampling and compute estimates\n",
    "    for i in range(n_bootstrap_samples):\n",
    "        # Generate bootstrap sample indices with replacement\n",
    "        bootstrap_indices = np.random.choice(n, size=n, replace=True)\n",
    "        \n",
    "        # Compute estimate using the specified function and bootstrap sample\n",
    "        bootstrap_estimate = func(data, bootstrap_indices)\n",
    "        \n",
    "        # Store the estimate\n",
    "        bootstrap_estimates[i] = bootstrap_estimate\n",
    "    \n",
    "    # Calculate the standard error of the bootstrap estimates\n",
    "    bootstrap_SE = np.std(bootstrap_estimates)\n",
    "    \n",
    "    return bootstrap_SE\n",
    "\n",
    "# Define a function to compute the mean of Sepal.Length\n",
    "def mean_sepal_length(data, idx):\n",
    "    return data.iloc[idx]['Sepal.Length'].mean()\n",
    "\n",
    "# Compute the bootstrap standard error of the mean Sepal.Length\n",
    "bootstrap_se_mean_sepal_length = boot_SE(df, mean_sepal_length, seed=42)\n",
    "print(f\"Bootstrap SE of the mean Sepal Length: {bootstrap_se_mean_sepal_length}\")\n"
   ]
  },
  {
   "cell_type": "markdown",
   "id": "8a543472",
   "metadata": {},
   "source": [
    "_(v)_ Evaluate the accuracy of our alpha estimate with B = 1000"
   ]
  },
  {
   "cell_type": "code",
   "execution_count": 8,
   "id": "9ed41c4e",
   "metadata": {},
   "outputs": [
    {
     "name": "stdout",
     "output_type": "stream",
     "text": [
      "Bootstrap SE of alpha estimate: 0.055562862095136174\n"
     ]
    }
   ],
   "source": [
    "# Your code here\n",
    "import statsmodels.api as sm\n",
    "import pandas as pd\n",
    "import numpy as np\n",
    "\n",
    "# Load the iris dataset\n",
    "iris = sm.datasets.get_rdataset('iris', 'datasets')\n",
    "df = pd.DataFrame(iris.data)\n",
    "\n",
    "# Define the alpha_func(D, idx) function\n",
    "def alpha_func(D, idx):\n",
    "    # Extract the relevant columns\n",
    "    sepal_length = D.iloc[idx]['Sepal.Length']\n",
    "    sepal_width = D.iloc[idx]['Sepal.Width']\n",
    "    \n",
    "    # Calculate alpha\n",
    "    alpha = (sepal_length.var() - sepal_width.var()) / (sepal_length.var() + sepal_width.var())\n",
    "    \n",
    "    return alpha\n",
    "\n",
    "# Define the boot_SE function\n",
    "def boot_SE(data, func, n_bootstrap_samples=1000, seed=None):\n",
    "    # Set seed for reproducibility\n",
    "    np.random.seed(seed)\n",
    "    \n",
    "    # Number of observations in the dataset\n",
    "    n = len(data)\n",
    "    \n",
    "    # Initialize an empty array to store bootstrap estimates\n",
    "    bootstrap_estimates = np.empty(n_bootstrap_samples)\n",
    "    \n",
    "    # Perform bootstrap sampling and compute estimates\n",
    "    for i in range(n_bootstrap_samples):\n",
    "        # Generate bootstrap sample indices with replacement\n",
    "        bootstrap_indices = np.random.choice(n, size=n, replace=True)\n",
    "        \n",
    "        # Compute estimate using the specified function and bootstrap sample\n",
    "        bootstrap_estimate = func(data, bootstrap_indices)\n",
    "        \n",
    "        # Store the estimate\n",
    "        bootstrap_estimates[i] = bootstrap_estimate\n",
    "    \n",
    "    # Calculate the standard error of the bootstrap estimates\n",
    "    bootstrap_SE = np.std(bootstrap_estimates)\n",
    "    \n",
    "    return bootstrap_SE\n",
    "\n",
    "# Compute the bootstrap standard error of the alpha estimate\n",
    "bootstrap_se_alpha = boot_SE(df, alpha_func, n_bootstrap_samples=1000, seed=42)\n",
    "print(f\"Bootstrap SE of alpha estimate: {bootstrap_se_alpha}\")\n"
   ]
  },
  {
   "cell_type": "markdown",
   "id": "785fe758-f395-40b6-a9a3-28ec2efeba29",
   "metadata": {},
   "source": [
    "_(vi)_ What is the original mean value of `Sepal.Length`?\n",
    "\n",
    "Next, let's look _inside_ our bootstrapping to understand the new, bootstrapped sample we have created. Let's review the bootstrapped range, by using `t_range = np.ptp(boot_se_samples)`.\n",
    "\n",
    "_(vii)_. Write code to review the bootstrapped mean value, and the standard deviation of the bootstrapped samples. Compare the mean against its original value."
   ]
  },
  {
   "cell_type": "code",
   "execution_count": 9,
   "id": "7686243c",
   "metadata": {},
   "outputs": [
    {
     "name": "stdout",
     "output_type": "stream",
     "text": [
      "Original mean value of Sepal.Length: 5.843333333333334\n"
     ]
    }
   ],
   "source": [
    "# Add your code here\n",
    "import statsmodels.api as sm\n",
    "import pandas as pd\n",
    "\n",
    "# Load the iris dataset\n",
    "iris = sm.datasets.get_rdataset('iris', 'datasets')\n",
    "df = pd.DataFrame(iris.data)\n",
    "\n",
    "# Calculate the mean of Sepal.Length\n",
    "original_mean_sepal_length = df['Sepal.Length'].mean()\n",
    "\n",
    "print(f\"Original mean value of Sepal.Length: {original_mean_sepal_length}\")\n"
   ]
  },
  {
   "cell_type": "markdown",
   "id": "888eee91",
   "metadata": {},
   "source": [
    "To review the bootstrapped range, we first need to generate the bootstrapped samples and then compute the range of these samples"
   ]
  },
  {
   "cell_type": "code",
   "execution_count": 10,
   "id": "5fdaf6b2",
   "metadata": {},
   "outputs": [
    {
     "name": "stdout",
     "output_type": "stream",
     "text": [
      "Range of the bootstrapped samples: 0.3449265844662839\n"
     ]
    }
   ],
   "source": [
    "import statsmodels.api as sm\n",
    "import pandas as pd\n",
    "import numpy as np\n",
    "\n",
    "# Load the iris dataset\n",
    "iris = sm.datasets.get_rdataset('iris', 'datasets')\n",
    "df = pd.DataFrame(iris.data)\n",
    "\n",
    "# Define the alpha_func(D, idx) function\n",
    "def alpha_func(D, idx):\n",
    "    # Extract the relevant columns\n",
    "    sepal_length = D.iloc[idx]['Sepal.Length']\n",
    "    sepal_width = D.iloc[idx]['Sepal.Width']\n",
    "    \n",
    "    # Calculate alpha\n",
    "    alpha = (sepal_length.var() - sepal_width.var()) / (sepal_length.var() + sepal_width.var())\n",
    "    \n",
    "    return alpha\n",
    "\n",
    "# Define the boot_samples function to generate bootstrapped samples\n",
    "def boot_samples(data, func, n_bootstrap_samples=1000, seed=None):\n",
    "    # Set seed for reproducibility\n",
    "    np.random.seed(seed)\n",
    "    \n",
    "    # Number of observations in the dataset\n",
    "    n = len(data)\n",
    "    \n",
    "    # Initialize an empty array to store bootstrap estimates\n",
    "    bootstrap_estimates = np.empty(n_bootstrap_samples)\n",
    "    \n",
    "    # Perform bootstrap sampling and compute estimates\n",
    "    for i in range(n_bootstrap_samples):\n",
    "        # Generate bootstrap sample indices with replacement\n",
    "        bootstrap_indices = np.random.choice(n, size=n, replace=True)\n",
    "        \n",
    "        # Compute estimate using the specified function and bootstrap sample\n",
    "        bootstrap_estimate = func(data, bootstrap_indices)\n",
    "        \n",
    "        # Store the estimate\n",
    "        bootstrap_estimates[i] = bootstrap_estimate\n",
    "    \n",
    "    return bootstrap_estimates\n",
    "\n",
    "# Generate bootstrapped samples for alpha estimates\n",
    "boot_se_samples = boot_samples(df, alpha_func, n_bootstrap_samples=1000, seed=42)\n",
    "\n",
    "# Compute the range of the bootstrapped samples\n",
    "t_range = np.ptp(boot_se_samples)\n",
    "\n",
    "print(f\"Range of the bootstrapped samples: {t_range}\")\n"
   ]
  },
  {
   "cell_type": "code",
   "execution_count": 11,
   "id": "134df9b7",
   "metadata": {},
   "outputs": [
    {
     "name": "stdout",
     "output_type": "stream",
     "text": [
      "Original mean value of Sepal.Length: 5.843333333333334\n",
      "Bootstrapped mean value: 0.5644042222944834\n",
      "Standard deviation of bootstrapped samples: 0.055562862095136174\n"
     ]
    }
   ],
   "source": [
    "import statsmodels.api as sm\n",
    "import pandas as pd\n",
    "import numpy as np\n",
    "\n",
    "# Load the iris dataset\n",
    "iris = sm.datasets.get_rdataset('iris', 'datasets')\n",
    "df = pd.DataFrame(iris.data)\n",
    "\n",
    "# Define the alpha_func(D, idx) function\n",
    "def alpha_func(D, idx):\n",
    "    # Extract the relevant columns\n",
    "    sepal_length = D.iloc[idx]['Sepal.Length']\n",
    "    sepal_width = D.iloc[idx]['Sepal.Width']\n",
    "    \n",
    "    # Calculate alpha\n",
    "    alpha = (sepal_length.var() - sepal_width.var()) / (sepal_length.var() + sepal_width.var())\n",
    "    \n",
    "    return alpha\n",
    "\n",
    "# Define the boot_samples function to generate bootstrapped samples\n",
    "def boot_samples(data, func, n_bootstrap_samples=1000, seed=None):\n",
    "    # Set seed for reproducibility\n",
    "    np.random.seed(seed)\n",
    "    \n",
    "    # Number of observations in the dataset\n",
    "    n = len(data)\n",
    "    \n",
    "    # Initialize an empty array to store bootstrap estimates\n",
    "    bootstrap_estimates = np.empty(n_bootstrap_samples)\n",
    "    \n",
    "    # Perform bootstrap sampling and compute estimates\n",
    "    for i in range(n_bootstrap_samples):\n",
    "        # Generate bootstrap sample indices with replacement\n",
    "        bootstrap_indices = np.random.choice(n, size=n, replace=True)\n",
    "        \n",
    "        # Compute estimate using the specified function and bootstrap sample\n",
    "        bootstrap_estimate = func(data, bootstrap_indices)\n",
    "        \n",
    "        # Store the estimate\n",
    "        bootstrap_estimates[i] = bootstrap_estimate\n",
    "    \n",
    "    return bootstrap_estimates\n",
    "\n",
    "# Generate bootstrapped samples for alpha estimates\n",
    "boot_se_samples = boot_samples(df, alpha_func, n_bootstrap_samples=1000, seed=42)\n",
    "\n",
    "# Compute the bootstrapped mean value and standard deviation\n",
    "boot_mean = np.mean(boot_se_samples)\n",
    "boot_std_dev = np.std(boot_se_samples)\n",
    "\n",
    "# Original mean value of Sepal.Length\n",
    "original_mean_sepal_length = df['Sepal.Length'].mean()\n",
    "\n",
    "print(f\"Original mean value of Sepal.Length: {original_mean_sepal_length}\")\n",
    "print(f\"Bootstrapped mean value: {boot_mean}\")\n",
    "print(f\"Standard deviation of bootstrapped samples: {boot_std_dev}\")\n"
   ]
  },
  {
   "cell_type": "markdown",
   "id": "66c6c663-f3bb-4a15-8896-6dccfb7259fd",
   "metadata": {},
   "source": [
    "_(viii)_ Next, let's compute 95% confidence intervals, for the mean value of iris petal length. (Hint: use the `np.percentile` function)"
   ]
  },
  {
   "cell_type": "code",
   "execution_count": 12,
   "id": "74de4a76-e500-4c93-82a9-e7365cc86c91",
   "metadata": {},
   "outputs": [
    {
     "name": "stdout",
     "output_type": "stream",
     "text": [
      "95% Confidence Interval for the mean Sepal.Length: [5.71063333 5.97268333]\n"
     ]
    }
   ],
   "source": [
    "# Add your code here\n",
    "import statsmodels.api as sm\n",
    "import pandas as pd\n",
    "import numpy as np\n",
    "\n",
    "# Load the iris dataset\n",
    "iris = sm.datasets.get_rdataset('iris', 'datasets')\n",
    "df = pd.DataFrame(iris.data)\n",
    "\n",
    "# Define the boot_samples function to generate bootstrapped samples\n",
    "def boot_samples(data, func, n_bootstrap_samples=1000, seed=None):\n",
    "    # Set seed for reproducibility\n",
    "    np.random.seed(seed)\n",
    "    \n",
    "    # Number of observations in the dataset\n",
    "    n = len(data)\n",
    "    \n",
    "    # Initialize an empty array to store bootstrap estimates\n",
    "    bootstrap_estimates = np.empty(n_bootstrap_samples)\n",
    "    \n",
    "    # Perform bootstrap sampling and compute estimates\n",
    "    for i in range(n_bootstrap_samples):\n",
    "        # Generate bootstrap sample indices with replacement\n",
    "        bootstrap_indices = np.random.choice(n, size=n, replace=True)\n",
    "        \n",
    "        # Compute estimate using the specified function and bootstrap sample\n",
    "        bootstrap_estimate = func(data, bootstrap_indices)\n",
    "        \n",
    "        # Store the estimate\n",
    "        bootstrap_estimates[i] = bootstrap_estimate\n",
    "    \n",
    "    return bootstrap_estimates\n",
    "\n",
    "# Generate bootstrapped samples for Sepal.Length\n",
    "boot_sepal_length_samples = boot_samples(df, lambda data, idx: data.iloc[idx]['Sepal.Length'].mean(), n_bootstrap_samples=1000, seed=42)\n",
    "\n",
    "# Compute the 95% confidence intervals\n",
    "confidence_interval = np.percentile(boot_sepal_length_samples, [2.5, 97.5])\n",
    "\n",
    "print(f\"95% Confidence Interval for the mean Sepal.Length: {confidence_interval}\")\n"
   ]
  },
  {
   "cell_type": "markdown",
   "id": "488e54f7-ebe4-4740-835c-9832320005d0",
   "metadata": {},
   "source": [
    "_(ix)_. Use the plot function to create an histogram of the bootstrapped samples. What does this histogram show ?"
   ]
  },
  {
   "cell_type": "code",
   "execution_count": 14,
   "id": "4fca4e3f",
   "metadata": {},
   "outputs": [
    {
     "data": {
      "image/png": "[encoded data removed]",
      "text/plain": [
       "<Figure size 640x480 with 1 Axes>"
      ]
     },
     "metadata": {},
     "output_type": "display_data"
    },
    {
     "ename": "",
     "evalue": "",
     "output_type": "error",
     "traceback": [
      "\u001b[1;31mThe Kernel crashed while executing code in the current cell or a previous cell. \n",
      "\u001b[1;31mPlease review the code in the cell(s) to identify a possible cause of the failure. \n",
      "\u001b[1;31mClick <a href='https://aka.ms/vscodeJupyterKernelCrash'>here</a> for more info. \n",
      "\u001b[1;31mView Jupyter <a href='command:jupyter.viewOutput'>log</a> for further details."
     ]
    }
   ],
   "source": [
    "#Complete this\n",
    "\n",
    "# Create a figure and axis\n",
    "fig, ax = plt.subplots()\n",
    "\n",
    "# Create the histogram\n",
    "#Add your code here\n",
    "plt.hist(boot_sepal_length_samples, bins=30, edgecolor='black')\n",
    "\n",
    "# Add a title\n",
    "#Add your code here\n",
    "plt.title('Histogram of Bootstrapped Samples of Mean Sepal Length')\n",
    "# Add a label to the x-axis\n",
    "#Add your code here\n",
    "plt.xlabel('Mean Sepal Length')\n",
    "# Add a label to the y-axis\n",
    "#Add your code here\n",
    "plt.ylabel('Frequency')\n",
    "# Show the plot\n",
    "plt.show()"
   ]
  },
  {
   "cell_type": "markdown",
   "id": "bfa9a095-9c7a-4ab5-aa99-b11bf419fae0",
   "metadata": {},
   "source": [
    "_(x)_ Given your bootstrapped analysis, what do you recommend to shipping company? "
   ]
  },
  {
   "cell_type": "markdown",
   "id": "ecdcb098",
   "metadata": {},
   "source": [
    "Based on the bootstrapped analysis of the mean `Sepal.Length`, along with the computation of its 95% confidence interval and visualization through the histogram of bootstrapped samples, i can provide the following recommendations to the shipping company:\n",
    "\n",
    "1. **Mean Estimate**: The estimated mean value of `Sepal.Length` can be used as a reliable estimate for planning space allotment on the upcoming shipment.\n",
    "\n",
    "2. **Confidence Interval**: The 95% confidence interval for the mean `Sepal.Length` provides a range within which we can be 95% confident that the true population mean lies. This interval accounts for the uncertainty in our estimate and can guide decision-making.\n",
    "\n",
    "3. **Histogram Analysis**: The histogram of bootstrapped samples provides insights into the distribution and variability of the mean `Sepal.Length`. It helps in understanding the spread and central tendency of the estimates and identifying any unusual patterns or outliers.\n",
    "\n",
    "4. **Consideration of Uncertainty**: It's important to acknowledge the uncertainty associated with our estimate. While the mean estimate provides a point estimate, the confidence interval and histogram analysis highlight the variability and distribution of possible values. The shipping company should factor in this uncertainty when making decisions.\n",
    "\n",
    "5. **Further Analysis**: Depending on the specific requirements and constraints of the shipment, the shipping company may consider additional analyses or sensitivity tests to assess the robustness of the space allotment decision.\n",
    "\n",
    "I recommend using the estimated mean `Sepal.Length` along with its confidence interval to inform space allotment on the upcoming shipment, while being mindful of the uncertainty inherent in the estimate.\n",
    "Done."
   ]
  },
  {
   "cell_type": "markdown",
   "id": "466943e8",
   "metadata": {},
   "source": [
    "# Criteria\n",
    "\n",
    "|Criteria            |Complete           |Incomplete          |\n",
    "|--------------------|---------------|--------------|\n",
    "|Bootstrapping|All steps are done correctly and the answers are correct.|At least one step is done incorrectly leading to a wrong answer.|"
   ]
  },
  {
   "cell_type": "markdown",
   "id": "68b8a226",
   "metadata": {},
   "source": [
    "## Submission Information\n",
    "\n",
    "🚨 **Please review our [Assignment Submission Guide](https://github.com/UofT-DSI/onboarding/blob/main/onboarding_documents/submissions.md)** 🚨 for detailed instructions on how to format, branch, and submit your work. Following these guidelines is crucial for your submissions to be evaluated correctly.\n",
    "\n",
    "### Note:\n",
    "\n",
    "If you like, you may collaborate with others in the cohort. If you choose to do so, please indicate with whom you have worked with in your pull request by tagging their GitHub username. Separate submissions are required.\n",
    "\n",
    "\n",
    "### Submission Parameters:\n",
    "* Submission Due Date: `HH:MM AM/PM - DD/MM/YYYY`\n",
    "* The branch name for your repo should be: `assignment-3`\n",
    "* What to submit for this assignment:\n",
    "    * This Jupyter Notebook (assignment_3.ipynb) should be populated and should be the only change in your pull request.\n",
    "* What the pull request link should look like for this assignment: `https://github.com/<your_github_username>/applied_statistical_concepts/pull/<pr_id>`\n",
    "    * Open a private window in your browser. Copy and paste the link to your pull request into the address bar. Make sure you can see your pull request properly. This helps the technical facilitator and learning support staff review your submission easily.\n",
    "\n",
    "Checklist:\n",
    "- [ ] Created a branch with the correct naming convention.\n",
    "- [ ] Ensured that the repository is public.\n",
    "- [ ] Reviewed the PR description guidelines and adhered to them.\n",
    "- [ ] Verify that the link is accessible in a private browser window.\n",
    "\n",
    "If you encounter any difficulties or have questions, please don't hesitate to reach out to our team via our Slack at `#cohort-3-help`. Our Technical Facilitators and Learning Support staff are here to help you navigate any challenges.\n"
   ]
  }
 ],
 "metadata": {
  "kernelspec": {
   "display_name": "Python 3.10.4",
   "language": "python",
   "name": "python3"
  },
  "language_info": {
   "codemirror_mode": {
    "name": "ipython",
    "version": 3
   },
   "file_extension": ".py",
   "mimetype": "text/x-python",
   "name": "python",
   "nbconvert_exporter": "python",
   "pygments_lexer": "ipython3",
   "version": "3.9.15"
  },
  "vscode": {
   "interpreter": {
    "hash": "497a84dc8fec8cf8d24e7e87b6d954c9a18a327edc66feb9b9ea7e9e72cc5c7e"
   }
  }
 },
 "nbformat": 4,
 "nbformat_minor": 5
}
