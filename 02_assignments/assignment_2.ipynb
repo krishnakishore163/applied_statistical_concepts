{
 "cells": [
  {
   "cell_type": "markdown",
   "id": "7b0bcac6-5086-4f4e-928a-570a9ff7ae58",
   "metadata": {},
   "source": [
    "# Assignment 2"
   ]
  },
  {
   "cell_type": "markdown",
   "id": "5fce0350-2a17-4e93-8d4c-0b8748fdfc32",
   "metadata": {},
   "source": [
    "As before, if a question can be answered with 'yes/no', or a numeric value, you may simply state as much. If you incorporate code from the internet (which is not required and generally not advisable), please cite the source within your code (providing a URL is sufficient).\n",
    "\n",
    "We will go through comparable code and concepts in the live learning sessions. If you run into trouble, start by using the help `help()` function in Python, to get information about the datasets and function in question. The internet is also a great resource when coding (though note that no outside searches are required by the assignment!). If you do incorporate code from the internet, please cite the source within your code (providing a URL is sufficient).\n",
    "\n",
    "Please bring questions that you cannot work out on your own to office hours, work periods or share with your peers on Slack. We will work with you through the issue.\n",
    "\n",
    "If you like, you may collaborate with others in the cohort. If you choose to do so, please indicate with whom you have worked with in your pull request by tagging their GitHub username. Separate submissions are required."
   ]
  },
  {
   "cell_type": "code",
   "execution_count": 2,
   "id": "ffd43063",
   "metadata": {},
   "outputs": [],
   "source": [
    "import numpy as np\n",
    "import pandas as pd\n",
    "import matplotlib.pyplot as plt\n",
    "import statsmodels.api as sm\n",
    "\n",
    "# Import specific objects\n",
    "from sklearn.preprocessing import StandardScaler\n",
    "from ISLP import load_data"
   ]
  },
  {
   "cell_type": "markdown",
   "id": "4a59e07e-6abb-4f6c-9c1b-760b11626ce7",
   "metadata": {},
   "source": [
    "### Question 1: Classification using KNN\n",
    "\n",
    "We'll now use the `Caravan` dataset from the `ISLP` package. (You may use `Caravan.describe()` to review details of the dataset.) In this dataset, the response variable of interest is `Purchase`, which indicates if a given customer purchased a caravan insurance policy. We will simultaneously use all other variables in the dataset to predict the response variable."
   ]
  },
  {
   "cell_type": "code",
   "execution_count": 3,
   "id": "6449268e-0e33-4976-83cf-5ada4b29597f",
   "metadata": {},
   "outputs": [
    {
     "name": "stdout",
     "output_type": "stream",
     "text": [
      "<class 'pandas.core.frame.DataFrame'>\n",
      "RangeIndex: 5822 entries, 0 to 5821\n",
      "Data columns (total 86 columns):\n",
      " #   Column    Non-Null Count  Dtype \n",
      "---  ------    --------------  ----- \n",
      " 0   MOSTYPE   5822 non-null   int64 \n",
      " 1   MAANTHUI  5822 non-null   int64 \n",
      " 2   MGEMOMV   5822 non-null   int64 \n",
      " 3   MGEMLEEF  5822 non-null   int64 \n",
      " 4   MOSHOOFD  5822 non-null   int64 \n",
      " 5   MGODRK    5822 non-null   int64 \n",
      " 6   MGODPR    5822 non-null   int64 \n",
      " 7   MGODOV    5822 non-null   int64 \n",
      " 8   MGODGE    5822 non-null   int64 \n",
      " 9   MRELGE    5822 non-null   int64 \n",
      " 10  MRELSA    5822 non-null   int64 \n",
      " 11  MRELOV    5822 non-null   int64 \n",
      " 12  MFALLEEN  5822 non-null   int64 \n",
      " 13  MFGEKIND  5822 non-null   int64 \n",
      " 14  MFWEKIND  5822 non-null   int64 \n",
      " 15  MOPLHOOG  5822 non-null   int64 \n",
      " 16  MOPLMIDD  5822 non-null   int64 \n",
      " 17  MOPLLAAG  5822 non-null   int64 \n",
      " 18  MBERHOOG  5822 non-null   int64 \n",
      " 19  MBERZELF  5822 non-null   int64 \n",
      " 20  MBERBOER  5822 non-null   int64 \n",
      " 21  MBERMIDD  5822 non-null   int64 \n",
      " 22  MBERARBG  5822 non-null   int64 \n",
      " 23  MBERARBO  5822 non-null   int64 \n",
      " 24  MSKA      5822 non-null   int64 \n",
      " 25  MSKB1     5822 non-null   int64 \n",
      " 26  MSKB2     5822 non-null   int64 \n",
      " 27  MSKC      5822 non-null   int64 \n",
      " 28  MSKD      5822 non-null   int64 \n",
      " 29  MHHUUR    5822 non-null   int64 \n",
      " 30  MHKOOP    5822 non-null   int64 \n",
      " 31  MAUT1     5822 non-null   int64 \n",
      " 32  MAUT2     5822 non-null   int64 \n",
      " 33  MAUT0     5822 non-null   int64 \n",
      " 34  MZFONDS   5822 non-null   int64 \n",
      " 35  MZPART    5822 non-null   int64 \n",
      " 36  MINKM30   5822 non-null   int64 \n",
      " 37  MINK3045  5822 non-null   int64 \n",
      " 38  MINK4575  5822 non-null   int64 \n",
      " 39  MINK7512  5822 non-null   int64 \n",
      " 40  MINK123M  5822 non-null   int64 \n",
      " 41  MINKGEM   5822 non-null   int64 \n",
      " 42  MKOOPKLA  5822 non-null   int64 \n",
      " 43  PWAPART   5822 non-null   int64 \n",
      " 44  PWABEDR   5822 non-null   int64 \n",
      " 45  PWALAND   5822 non-null   int64 \n",
      " 46  PPERSAUT  5822 non-null   int64 \n",
      " 47  PBESAUT   5822 non-null   int64 \n",
      " 48  PMOTSCO   5822 non-null   int64 \n",
      " 49  PVRAAUT   5822 non-null   int64 \n",
      " 50  PAANHANG  5822 non-null   int64 \n",
      " 51  PTRACTOR  5822 non-null   int64 \n",
      " 52  PWERKT    5822 non-null   int64 \n",
      " 53  PBROM     5822 non-null   int64 \n",
      " 54  PLEVEN    5822 non-null   int64 \n",
      " 55  PPERSONG  5822 non-null   int64 \n",
      " 56  PGEZONG   5822 non-null   int64 \n",
      " 57  PWAOREG   5822 non-null   int64 \n",
      " 58  PBRAND    5822 non-null   int64 \n",
      " 59  PZEILPL   5822 non-null   int64 \n",
      " 60  PPLEZIER  5822 non-null   int64 \n",
      " 61  PFIETS    5822 non-null   int64 \n",
      " 62  PINBOED   5822 non-null   int64 \n",
      " 63  PBYSTAND  5822 non-null   int64 \n",
      " 64  AWAPART   5822 non-null   int64 \n",
      " 65  AWABEDR   5822 non-null   int64 \n",
      " 66  AWALAND   5822 non-null   int64 \n",
      " 67  APERSAUT  5822 non-null   int64 \n",
      " 68  ABESAUT   5822 non-null   int64 \n",
      " 69  AMOTSCO   5822 non-null   int64 \n",
      " 70  AVRAAUT   5822 non-null   int64 \n",
      " 71  AAANHANG  5822 non-null   int64 \n",
      " 72  ATRACTOR  5822 non-null   int64 \n",
      " 73  AWERKT    5822 non-null   int64 \n",
      " 74  ABROM     5822 non-null   int64 \n",
      " 75  ALEVEN    5822 non-null   int64 \n",
      " 76  APERSONG  5822 non-null   int64 \n",
      " 77  AGEZONG   5822 non-null   int64 \n",
      " 78  AWAOREG   5822 non-null   int64 \n",
      " 79  ABRAND    5822 non-null   int64 \n",
      " 80  AZEILPL   5822 non-null   int64 \n",
      " 81  APLEZIER  5822 non-null   int64 \n",
      " 82  AFIETS    5822 non-null   int64 \n",
      " 83  AINBOED   5822 non-null   int64 \n",
      " 84  ABYSTAND  5822 non-null   int64 \n",
      " 85  Purchase  5822 non-null   object\n",
      "dtypes: int64(85), object(1)\n",
      "memory usage: 3.8+ MB\n",
      "None\n",
      "            MOSTYPE     MAANTHUI      MGEMOMV     MGEMLEEF     MOSHOOFD  \\\n",
      "count   5822.000000  5822.000000  5822.000000  5822.000000  5822.000000   \n",
      "unique          NaN          NaN          NaN          NaN          NaN   \n",
      "top             NaN          NaN          NaN          NaN          NaN   \n",
      "freq            NaN          NaN          NaN          NaN          NaN   \n",
      "mean      24.253349     1.110615     2.678805     2.991240     5.773617   \n",
      "std       12.846706     0.405842     0.789835     0.814589     2.856760   \n",
      "min        1.000000     1.000000     1.000000     1.000000     1.000000   \n",
      "25%       10.000000     1.000000     2.000000     2.000000     3.000000   \n",
      "50%       30.000000     1.000000     3.000000     3.000000     7.000000   \n",
      "75%       35.000000     1.000000     3.000000     3.000000     8.000000   \n",
      "max       41.000000    10.000000     5.000000     6.000000    10.000000   \n",
      "\n",
      "             MGODRK       MGODPR       MGODOV       MGODGE       MRELGE  ...  \\\n",
      "count   5822.000000  5822.000000  5822.000000  5822.000000  5822.000000  ...   \n",
      "unique          NaN          NaN          NaN          NaN          NaN  ...   \n",
      "top             NaN          NaN          NaN          NaN          NaN  ...   \n",
      "freq            NaN          NaN          NaN          NaN          NaN  ...   \n",
      "mean       0.696496     4.626932     1.069907     3.258502     6.183442  ...   \n",
      "std        1.003234     1.715843     1.017503     1.597647     1.909482  ...   \n",
      "min        0.000000     0.000000     0.000000     0.000000     0.000000  ...   \n",
      "25%        0.000000     4.000000     0.000000     2.000000     5.000000  ...   \n",
      "50%        0.000000     5.000000     1.000000     3.000000     6.000000  ...   \n",
      "75%        1.000000     6.000000     2.000000     4.000000     7.000000  ...   \n",
      "max        9.000000     9.000000     5.000000     9.000000     9.000000  ...   \n",
      "\n",
      "           APERSONG      AGEZONG      AWAOREG       ABRAND      AZEILPL  \\\n",
      "count   5822.000000  5822.000000  5822.000000  5822.000000  5822.000000   \n",
      "unique          NaN          NaN          NaN          NaN          NaN   \n",
      "top             NaN          NaN          NaN          NaN          NaN   \n",
      "freq            NaN          NaN          NaN          NaN          NaN   \n",
      "mean       0.005325     0.006527     0.004638     0.570079     0.000515   \n",
      "std        0.072782     0.080532     0.077403     0.562058     0.022696   \n",
      "min        0.000000     0.000000     0.000000     0.000000     0.000000   \n",
      "25%        0.000000     0.000000     0.000000     0.000000     0.000000   \n",
      "50%        0.000000     0.000000     0.000000     1.000000     0.000000   \n",
      "75%        0.000000     0.000000     0.000000     1.000000     0.000000   \n",
      "max        1.000000     1.000000     2.000000     7.000000     1.000000   \n",
      "\n",
      "           APLEZIER       AFIETS      AINBOED     ABYSTAND  Purchase  \n",
      "count   5822.000000  5822.000000  5822.000000  5822.000000      5822  \n",
      "unique          NaN          NaN          NaN          NaN         2  \n",
      "top             NaN          NaN          NaN          NaN        No  \n",
      "freq            NaN          NaN          NaN          NaN      5474  \n",
      "mean       0.006012     0.031776     0.007901     0.014256       NaN  \n",
      "std        0.081632     0.210986     0.090463     0.119996       NaN  \n",
      "min        0.000000     0.000000     0.000000     0.000000       NaN  \n",
      "25%        0.000000     0.000000     0.000000     0.000000       NaN  \n",
      "50%        0.000000     0.000000     0.000000     0.000000       NaN  \n",
      "75%        0.000000     0.000000     0.000000     0.000000       NaN  \n",
      "max        2.000000     3.000000     2.000000     2.000000       NaN  \n",
      "\n",
      "[11 rows x 86 columns]\n"
     ]
    }
   ],
   "source": [
    "# Load the \"Caravan\" dataset using the \"load_data\" function from the ISLP package\n",
    "Caravan = load_data('Caravan')\n",
    "\n",
    "# Add your code here\n",
    "print(Caravan.info())\n",
    "print(Caravan.describe(include='all'))"
   ]
  },
  {
   "cell_type": "markdown",
   "id": "ad60779b-cba9-4972-aeeb-b89e65fda11c",
   "metadata": {},
   "source": [
    "Before fitting any model, it is essential to understand our data. Answer the following questions about the `Caravan` dataset (Hint: use `print` and `describe`):  \n",
    "_(i)_ How many observations (rows) does the dataset contain?   \n",
    "_(ii)_ How many variables (columns) does the dataset contain?    \n",
    "_(iii)_ What 'variable' type is the response variable `Purchase` (e.g., 'character', 'factor', 'numeric', etc)? What are the 'levels' of the variable?    \n",
    "_(iv)_ How many predictor variables do we have (Hint: all variables other than `Purchase`)?  "
   ]
  },
  {
   "cell_type": "code",
   "execution_count": 4,
   "id": "5a3a8ec5-98e4-431d-967b-ae1482127de4",
   "metadata": {},
   "outputs": [
    {
     "name": "stdout",
     "output_type": "stream",
     "text": [
      "The dataset contains 5822 observations (rows).\n"
     ]
    }
   ],
   "source": [
    "# Add your code here\n",
    "num_rows = Caravan.shape[0]\n",
    "print(f\"The dataset contains {num_rows} observations (rows).\")"
   ]
  },
  {
   "cell_type": "code",
   "execution_count": 5,
   "id": "69f92616",
   "metadata": {},
   "outputs": [
    {
     "name": "stdout",
     "output_type": "stream",
     "text": [
      "The dataset contains 86 variables (columns).\n"
     ]
    }
   ],
   "source": [
    "num_columns = Caravan.shape[1]\n",
    "print(f\"The dataset contains {num_columns} variables (columns).\")"
   ]
  },
  {
   "cell_type": "code",
   "execution_count": 6,
   "id": "8125631c",
   "metadata": {},
   "outputs": [
    {
     "name": "stdout",
     "output_type": "stream",
     "text": [
      "The 'Purchase' variable is of type 'object'.\n",
      "The levels of the 'Purchase' variable are: ['No' 'Yes'].\n"
     ]
    }
   ],
   "source": [
    "purchase_dtype = Caravan['Purchase'].dtype\n",
    "purchase_levels = Caravan['Purchase'].unique()\n",
    "print(f\"The 'Purchase' variable is of type '{purchase_dtype}'.\")\n",
    "print(f\"The levels of the 'Purchase' variable are: {purchase_levels}.\")\n"
   ]
  },
  {
   "cell_type": "code",
   "execution_count": 7,
   "id": "ab74891b",
   "metadata": {},
   "outputs": [
    {
     "name": "stdout",
     "output_type": "stream",
     "text": [
      "There are 85 predictor variables.\n"
     ]
    }
   ],
   "source": [
    "num_predictors = num_columns - 1  # subtracting the 'Purchase' column\n",
    "print(f\"There are {num_predictors} predictor variables.\")\n"
   ]
  },
  {
   "cell_type": "markdown",
   "id": "5f5d31d9",
   "metadata": {},
   "source": [
    "Next, we must preform 'pre-processing' or 'data munging', to prepare our data for classification/prediction. For KNN, there are three essential steps. A first essential step is to 'standardize' the predictor variables. We can achieve this using the `scaler` method, provided as follows:"
   ]
  },
  {
   "cell_type": "code",
   "execution_count": 8,
   "id": "4c2901b1-82ce-4729-88d9-7d9985336221",
   "metadata": {},
   "outputs": [
    {
     "name": "stdout",
     "output_type": "stream",
     "text": [
      "    MOSTYPE  MAANTHUI   MGEMOMV  MGEMLEEF  MOSHOOFD    MGODRK    MGODPR  \\\n",
      "0  0.680906  -0.27258  0.406697 -1.216964  0.779405 -0.694311  0.217444   \n",
      "1  0.992297  -0.27258 -0.859500 -1.216964  0.779405  0.302552 -0.365410   \n",
      "2  0.992297  -0.27258 -0.859500 -1.216964  0.779405 -0.694311 -0.365410   \n",
      "3 -1.187437  -0.27258  0.406697  0.010755 -0.970980  1.299414 -0.948264   \n",
      "4  1.225840  -0.27258  1.672893 -1.216964  1.479559  0.302552 -0.365410   \n",
      "\n",
      "     MGODOV    MGODGE    MRELGE  ...   ALEVEN  APERSONG   AGEZONG  AWAOREG  \\\n",
      "0 -0.068711 -0.161816  0.427670  ... -0.20291 -0.073165 -0.081055 -0.05992   \n",
      "1 -0.068711  0.464159 -0.096077  ... -0.20291 -0.073165 -0.081055 -0.05992   \n",
      "2  0.914172  0.464159 -1.667319  ... -0.20291 -0.073165 -0.081055 -0.05992   \n",
      "3  0.914172  0.464159 -0.619824  ... -0.20291 -0.073165 -0.081055 -0.05992   \n",
      "4 -0.068711  0.464159  0.427670  ... -0.20291 -0.073165 -0.081055 -0.05992   \n",
      "\n",
      "     ABRAND   AZEILPL  APLEZIER   AFIETS   AINBOED  ABYSTAND  \n",
      "0  0.764971 -0.022706  -0.07365 -0.15062 -0.087348 -0.118816  \n",
      "1  0.764971 -0.022706  -0.07365 -0.15062 -0.087348 -0.118816  \n",
      "2  0.764971 -0.022706  -0.07365 -0.15062 -0.087348 -0.118816  \n",
      "3  0.764971 -0.022706  -0.07365 -0.15062 -0.087348 -0.118816  \n",
      "4  0.764971 -0.022706  -0.07365 -0.15062 -0.087348 -0.118816  \n",
      "\n",
      "[5 rows x 85 columns]\n"
     ]
    }
   ],
   "source": [
    "# Select predictors (excluding the 86th column)\n",
    "predictors = Caravan.iloc[:, :-1]\n",
    "\n",
    "# Standardize the predictors\n",
    "scaler = StandardScaler()\n",
    "predictors_standardized = pd.DataFrame(scaler.fit_transform(predictors), columns=predictors.columns)\n",
    "\n",
    "# Display the head of the standardized predictors\n",
    "print(predictors_standardized.head())"
   ]
  },
  {
   "cell_type": "markdown",
   "id": "227b3eaa-698e-4190-97cd-098e0e3d532e",
   "metadata": {},
   "source": [
    "_(v)_ Why is it important to standardize the predictor variables?  \n",
    "\n",
    "KNN (k-Nearest Neighbors) is a distance-based algorithm. It calculates the distance between data points to determine the \"nearest neighbors.\" If the predictor variables are on different scales, variables with larger ranges (e.g., income in thousands) can dominate the distance calculation, overshadowing variables with smaller ranges (e.g., number of children).\n",
    "\n",
    "Many machine learning algorithms, including KNN, perform better and converge faster when the input features are standardized. This is because features with similar scales allow for a more balanced and fair comparison.\n",
    "\n",
    "Standardizing helps in interpreting the model's results more effectively, as all features contribute equally to the prediction.\n",
    "\n",
    "\n",
    "_(vi)_ Why did we elect not to standard our response variable `Purchase`?  \n",
    "The response variable Purchase is a categorical variable indicating whether a customer purchased a caravan insurance policy or not. It typically has values such as \"Yes\" and \"No\" (or encoded as 1 and 0). Standardizing a categorical variable does not make sense for several reasons:\n",
    "\n",
    "Standardization is meant for continuous variables. Since Purchase is categorical, standardization does not apply as it would distort the categorical nature of the variable.\n",
    "\n",
    "The response variable's values (e.g., 0 and 1) are already interpretable in their raw form, representing distinct categories. Standardizing would remove this interpretability.\n",
    "\n",
    "Most classification algorithms, including KNN, can directly handle categorical response variables without the need for standardization."
   ]
  },
  {
   "cell_type": "markdown",
   "id": "28ffb22f",
   "metadata": {},
   "source": [
    "\n",
    "_(vii)_ A second essential step is to set a random seed. Do so below (Hint: use the `random.seed` function). Why is setting a seed important? Is the particular seed value important? Why or why not?\n",
    "Setting a random seed is an essential step in ensuring reproducibility in any machine learning workflow. \n",
    "\n",
    "Why is setting a seed important?\n",
    "Setting a seed ensures that the random operations (such as splitting the dataset into training and testing sets, or shuffling the data) produce the same results every time you run the code. This is crucial for debugging and verifying results.\n",
    "\n",
    "When collaborating with others or sharing your work, setting a seed allows others to reproduce your exact results. This consistency is important for scientific research, comparisons, and peer reviews.\n",
    "\n",
    "When comparing different models or approaches, having a consistent data split ensures that the comparisons are fair and not influenced by different random splits of the data.\n",
    "\n",
    "Is the particular seed value important?\n",
    "The particular seed value itself is not important. What matters is the consistency it provides. Any integer can be used as the seed value, and different seeds will produce different random sequences. However, once we choose a seed, we should document and use the same seed consistently to ensure reproducibility."
   ]
  },
  {
   "cell_type": "code",
   "execution_count": 9,
   "id": "230fd782-cfe1-45e6-ad00-a67e6b04d024",
   "metadata": {},
   "outputs": [
    {
     "name": "stdout",
     "output_type": "stream",
     "text": [
      "Random seed set to: 42\n"
     ]
    }
   ],
   "source": [
    "# Add your code here\n",
    "import numpy as np\n",
    "import random\n",
    "\n",
    "# Set a random seed\n",
    "seed_value = 42\n",
    "np.random.seed(seed_value)\n",
    "random.seed(seed_value)\n",
    "\n",
    "print(f\"Random seed set to: {seed_value}\")\n"
   ]
  },
  {
   "cell_type": "markdown",
   "id": "fe4862c6-ed52-402f-b3f0-fead91646033",
   "metadata": {},
   "source": [
    "_(viii)_ A third essential step is to split our standardized data into separate training and testing sets. We will split into 75% training and 25% testing. The provided code randomly partitions our data, and creates linked training sets for the predictors and response variables. Extend the code to create a non-overlapping test set for the predictors and response variables."
   ]
  },
  {
   "cell_type": "code",
   "execution_count": 10,
   "id": "cbe9f219-571b-476b-9f5b-b47431c803b1",
   "metadata": {},
   "outputs": [],
   "source": [
    "# Create a random vector of True and False values\n",
    "split = np.random.choice([True, False], size=len(predictors_standardized), replace=True, p=[0.75, 0.25])\n",
    "\n",
    "# Define the training set for X (predictors)\n",
    "training_X = predictors_standardized[split]\n",
    "\n",
    "# Define the training set for Y (response)\n",
    "training_Y = Caravan.loc[split, 'Purchase']\n",
    "\n",
    "# Define the testing set for X (predictors)\n",
    "testing_X = predictors_standardized[~split]\n",
    "\n",
    "# Define the testing set for Y (response)\n",
    "testing_Y = Caravan.loc[~split, 'Purchase']\n"
   ]
  },
  {
   "cell_type": "code",
   "execution_count": 11,
   "id": "4cd201ea",
   "metadata": {},
   "outputs": [
    {
     "name": "stdout",
     "output_type": "stream",
     "text": [
      "Training set (predictors) head:\n",
      "       MOSTYPE  MAANTHUI   MGEMOMV  MGEMLEEF  MOSHOOFD    MGODRK    MGODPR  \\\n",
      "3905  0.525211  -0.27258  0.406697 -2.444683  0.429328  3.293138 -2.696827   \n",
      "745   0.525211  -0.27258  0.406697  1.238473  0.429328 -0.694311  1.966006   \n",
      "4664  0.058125  -0.27258 -0.859500  0.010755  0.079251 -0.694311  0.217444   \n",
      "1773 -1.109590  -0.27258  1.672893 -1.216964 -0.970980  0.302552  0.217444   \n",
      "1730 -1.265285  -0.27258  0.406697  0.010755 -1.321057  0.302552  0.217444   \n",
      "\n",
      "        MGODOV    MGODGE    MRELGE  ...   ALEVEN  APERSONG   AGEZONG  AWAOREG  \\\n",
      "3905 -1.051594  1.090133 -1.143571  ... -0.20291 -0.073165 -0.081055 -0.05992   \n",
      "745  -1.051594 -1.413765 -0.096077  ... -0.20291 -0.073165 -0.081055 -0.05992   \n",
      "4664  0.914172 -0.787790 -1.143571  ... -0.20291 -0.073165 -0.081055 -0.05992   \n",
      "1773 -0.068711  0.464159  0.951417  ... -0.20291 -0.073165 -0.081055 -0.05992   \n",
      "1730 -0.068711 -0.161816  0.427670  ... -0.20291 -0.073165 -0.081055 -0.05992   \n",
      "\n",
      "        ABRAND   AZEILPL  APLEZIER   AFIETS   AINBOED  ABYSTAND  \n",
      "3905 -1.014358 -0.022706  -0.07365 -0.15062 -0.087348 -0.118816  \n",
      "745  -1.014358 -0.022706  -0.07365 -0.15062 -0.087348 -0.118816  \n",
      "4664 -1.014358 -0.022706  -0.07365 -0.15062 -0.087348 -0.118816  \n",
      "1773 -1.014358 -0.022706  -0.07365 -0.15062 -0.087348 -0.118816  \n",
      "1730  0.764971 -0.022706  -0.07365 -0.15062 -0.087348 -0.118816  \n",
      "\n",
      "[5 rows x 85 columns]\n",
      "\n",
      "Training set (response) head:\n",
      "3905    No\n",
      "745     No\n",
      "4664    No\n",
      "1773    No\n",
      "1730    No\n",
      "Name: Purchase, dtype: object\n",
      "\n",
      "Testing set (predictors) head:\n",
      "       MOSTYPE  MAANTHUI   MGEMOMV  MGEMLEEF  MOSHOOFD    MGODRK    MGODPR  \\\n",
      "544   0.058125  -0.27258 -2.125697  2.466192  0.079251 -0.694311 -0.365410   \n",
      "1894  0.914449  -0.27258  0.406697  0.010755  0.779405 -0.694311 -0.365410   \n",
      "5546  1.070144  -0.27258  1.672893 -1.216964  1.129482 -0.694311 -0.365410   \n",
      "4923  0.680906  -0.27258 -0.859500  1.238473  0.779405 -0.694311  0.217444   \n",
      "3624  0.836602  -0.27258  0.406697  0.010755  0.779405  4.290001 -1.531118   \n",
      "\n",
      "        MGODOV    MGODGE    MRELGE  ...   ALEVEN  APERSONG   AGEZONG  AWAOREG  \\\n",
      "544   0.914172  0.464159 -1.667319  ... -0.20291 -0.073165 -0.081055 -0.05992   \n",
      "1894 -0.068711  0.464159  0.427670  ... -0.20291 -0.073165 -0.081055 -0.05992   \n",
      "5546 -1.051594  1.090133  0.951417  ... -0.20291 -0.073165 -0.081055 -0.05992   \n",
      "4923  0.914172 -0.787790 -0.096077  ... -0.20291 -0.073165 -0.081055 -0.05992   \n",
      "3624 -1.051594 -0.161816 -0.619824  ... -0.20291 -0.073165 -0.081055 -0.05992   \n",
      "\n",
      "        ABRAND   AZEILPL  APLEZIER   AFIETS   AINBOED  ABYSTAND  \n",
      "544   0.764971 -0.022706  -0.07365 -0.15062 -0.087348 -0.118816  \n",
      "1894  0.764971 -0.022706  -0.07365 -0.15062 -0.087348 -0.118816  \n",
      "5546 -1.014358 -0.022706  -0.07365 -0.15062 -0.087348 -0.118816  \n",
      "4923  0.764971 -0.022706  -0.07365 -0.15062 -0.087348 -0.118816  \n",
      "3624 -1.014358 -0.022706  -0.07365 -0.15062 -0.087348 -0.118816  \n",
      "\n",
      "[5 rows x 85 columns]\n",
      "\n",
      "Testing set (response) head:\n",
      "544     No\n",
      "1894    No\n",
      "5546    No\n",
      "4923    No\n",
      "3624    No\n",
      "Name: Purchase, dtype: object\n"
     ]
    }
   ],
   "source": [
    "import pandas as pd\n",
    "import numpy as np\n",
    "import random\n",
    "from sklearn.preprocessing import StandardScaler\n",
    "from sklearn.model_selection import train_test_split\n",
    "from ISLP import load_data\n",
    "\n",
    "# Set a random seed\n",
    "seed_value = 42\n",
    "np.random.seed(seed_value)\n",
    "random.seed(seed_value)\n",
    "\n",
    "# Load the Caravan dataset\n",
    "Caravan = load_data('Caravan')\n",
    "\n",
    "# Select predictors (excluding the last column, which is the response variable)\n",
    "predictors = Caravan.iloc[:, :-1]\n",
    "\n",
    "# Standardize the predictors\n",
    "scaler = StandardScaler()\n",
    "predictors_standardized = pd.DataFrame(scaler.fit_transform(predictors), columns=predictors.columns)\n",
    "\n",
    "# Create the response variable\n",
    "response = Caravan['Purchase']\n",
    "\n",
    "# Split the data into training and testing sets (75% training, 25% testing)\n",
    "training_X, testing_X, training_Y, testing_Y = train_test_split(\n",
    "    predictors_standardized, response, test_size=0.25, random_state=seed_value)\n",
    "\n",
    "# Display the first few rows of the training and testing sets\n",
    "print(\"Training set (predictors) head:\")\n",
    "print(training_X.head())\n",
    "print(\"\\nTraining set (response) head:\")\n",
    "print(training_Y.head())\n",
    "print(\"\\nTesting set (predictors) head:\")\n",
    "print(testing_X.head())\n",
    "print(\"\\nTesting set (response) head:\")\n",
    "print(testing_Y.head())\n"
   ]
  },
  {
   "cell_type": "markdown",
   "id": "58f16dbc-0be6-4cc8-b2c4-edab7042c702",
   "metadata": {},
   "source": [
    "_(ix)_ We are finally set to fit the KNN model. In Python, we can use the `KNeighborsClassifier()` function. Fit the KNN with k=1. (You may review arguments to knn by typing `help(knn.fit)`). "
   ]
  },
  {
   "cell_type": "code",
   "execution_count": 12,
   "id": "e6a117de-279b-4320-b64e-4051ba2887d2",
   "metadata": {},
   "outputs": [
    {
     "name": "stdout",
     "output_type": "stream",
     "text": [
      "Predictions on the testing set:\n",
      "['No' 'No' 'No' 'No' 'No' 'No' 'Yes' 'No' 'No' 'No']\n",
      "\n",
      "True values of the testing set:\n",
      "['No' 'No' 'No' 'No' 'No' 'No' 'No' 'No' 'No' 'No']\n",
      "\n",
      "Accuracy of the KNN model with k=1: 0.88\n"
     ]
    }
   ],
   "source": [
    "# Add your code here\n",
    "import pandas as pd\n",
    "import numpy as np\n",
    "import random\n",
    "from sklearn.preprocessing import StandardScaler\n",
    "from sklearn.model_selection import train_test_split\n",
    "from sklearn.neighbors import KNeighborsClassifier\n",
    "from ISLP import load_data\n",
    "\n",
    "# Set a random seed\n",
    "seed_value = 42\n",
    "np.random.seed(seed_value)\n",
    "random.seed(seed_value)\n",
    "\n",
    "# Load the Caravan dataset\n",
    "Caravan = load_data('Caravan')\n",
    "\n",
    "# Select predictors (excluding the last column, which is the response variable)\n",
    "predictors = Caravan.iloc[:, :-1]\n",
    "\n",
    "# Standardize the predictors\n",
    "scaler = StandardScaler()\n",
    "predictors_standardized = pd.DataFrame(scaler.fit_transform(predictors), columns=predictors.columns)\n",
    "\n",
    "# Create the response variable\n",
    "response = Caravan['Purchase']\n",
    "\n",
    "# Split the data into training and testing sets (75% training, 25% testing)\n",
    "training_X, testing_X, training_Y, testing_Y = train_test_split(\n",
    "    predictors_standardized, response, test_size=0.25, random_state=seed_value)\n",
    "\n",
    "# Initialize the KNN classifier with k=1\n",
    "knn = KNeighborsClassifier(n_neighbors=1)\n",
    "\n",
    "# Fit the KNN model on the training data\n",
    "knn.fit(training_X, training_Y)\n",
    "\n",
    "# Display the model's predictions on the testing data\n",
    "predictions = knn.predict(testing_X)\n",
    "\n",
    "# Print the first few predictions and the corresponding true values\n",
    "print(\"Predictions on the testing set:\")\n",
    "print(predictions[:10])\n",
    "print(\"\\nTrue values of the testing set:\")\n",
    "print(testing_Y[:10].values)\n",
    "\n",
    "# Print the accuracy of the model\n",
    "accuracy = knn.score(testing_X, testing_Y)\n",
    "print(f\"\\nAccuracy of the KNN model with k=1: {accuracy:.2f}\")\n"
   ]
  },
  {
   "cell_type": "markdown",
   "id": "eb33a32a-95d3-49db-bb1b-663360267b18",
   "metadata": {},
   "source": [
    "Using your fit model, answer the following questions:   \n",
    "_(x)_ What is the prediction accuracy? (Hint: use the `score` method, and compare your model to `testing_Y`)  \n",
    "_(xi)_ What is the predictor error ? (Hint: compute it from the accuracy)"
   ]
  },
  {
   "cell_type": "code",
   "execution_count": 13,
   "id": "74dbe6c4-1a4d-4f06-9e2e-597da03952ed",
   "metadata": {},
   "outputs": [
    {
     "name": "stdout",
     "output_type": "stream",
     "text": [
      "Prediction accuracy of the KNN model with k=1: 0.88\n"
     ]
    }
   ],
   "source": [
    "# prediction accuracy rate\n",
    "import pandas as pd\n",
    "import numpy as np\n",
    "import random\n",
    "from sklearn.preprocessing import StandardScaler\n",
    "from sklearn.model_selection import train_test_split\n",
    "from sklearn.neighbors import KNeighborsClassifier\n",
    "from ISLP import load_data\n",
    "\n",
    "# Set a random seed\n",
    "seed_value = 42\n",
    "np.random.seed(seed_value)\n",
    "random.seed(seed_value)\n",
    "\n",
    "# Load the Caravan dataset\n",
    "Caravan = load_data('Caravan')\n",
    "\n",
    "# Select predictors (excluding the last column, which is the response variable)\n",
    "predictors = Caravan.iloc[:, :-1]\n",
    "\n",
    "# Standardize the predictors\n",
    "scaler = StandardScaler()\n",
    "predictors_standardized = pd.DataFrame(scaler.fit_transform(predictors), columns=predictors.columns)\n",
    "\n",
    "# Create the response variable\n",
    "response = Caravan['Purchase']\n",
    "\n",
    "# Split the data into training and testing sets (75% training, 25% testing)\n",
    "training_X, testing_X, training_Y, testing_Y = train_test_split(\n",
    "    predictors_standardized, response, test_size=0.25, random_state=seed_value)\n",
    "\n",
    "# Initialize the KNN classifier with k=1\n",
    "knn = KNeighborsClassifier(n_neighbors=1)\n",
    "\n",
    "# Fit the KNN model on the training data\n",
    "knn.fit(training_X, training_Y)\n",
    "\n",
    "# Compute the prediction accuracy\n",
    "accuracy = knn.score(testing_X, testing_Y)\n",
    "print(f\"Prediction accuracy of the KNN model with k=1: {accuracy:.2f}\")\n",
    "\n"
   ]
  },
  {
   "cell_type": "code",
   "execution_count": 14,
   "id": "9384d3f0",
   "metadata": {},
   "outputs": [
    {
     "name": "stdout",
     "output_type": "stream",
     "text": [
      "Predictor error of the KNN model with k=1: 0.12\n"
     ]
    }
   ],
   "source": [
    "# prediction error rate\n",
    "import pandas as pd\n",
    "import numpy as np\n",
    "import random\n",
    "from sklearn.preprocessing import StandardScaler\n",
    "from sklearn.model_selection import train_test_split\n",
    "from sklearn.neighbors import KNeighborsClassifier\n",
    "from ISLP import load_data\n",
    "\n",
    "# Set a random seed\n",
    "seed_value = 42\n",
    "np.random.seed(seed_value)\n",
    "random.seed(seed_value)\n",
    "\n",
    "# Load the Caravan dataset\n",
    "Caravan = load_data('Caravan')\n",
    "\n",
    "# Select predictors (excluding the last column, which is the response variable)\n",
    "predictors = Caravan.iloc[:, :-1]\n",
    "\n",
    "# Standardize the predictors\n",
    "scaler = StandardScaler()\n",
    "predictors_standardized = pd.DataFrame(scaler.fit_transform(predictors), columns=predictors.columns)\n",
    "\n",
    "# Create the response variable\n",
    "response = Caravan['Purchase']\n",
    "\n",
    "# Split the data into training and testing sets (75% training, 25% testing)\n",
    "training_X, testing_X, training_Y, testing_Y = train_test_split(\n",
    "    predictors_standardized, response, test_size=0.25, random_state=seed_value)\n",
    "\n",
    "# Initialize the KNN classifier with k=1\n",
    "knn = KNeighborsClassifier(n_neighbors=1)\n",
    "\n",
    "# Fit the KNN model on the training data\n",
    "knn.fit(training_X, training_Y)\n",
    "\n",
    "# Compute the prediction accuracy\n",
    "accuracy = knn.score(testing_X, testing_Y)\n",
    "\n",
    "\n",
    "# Compute the predictor error\n",
    "error = 1 - accuracy\n",
    "print(f\"Predictor error of the KNN model with k=1: {error:.2f}\")\n"
   ]
  },
  {
   "cell_type": "markdown",
   "id": "dce9342c-9dcd-4f6d-b437-6065417483db",
   "metadata": {},
   "source": [
    "_(xii)_ How does this prediction error/accuracy compare to what could be achieved via random guesses? To answer this, consider the percent of customers in the `Caravan` dataset who actually purchase insurance, computed below:"
   ]
  },
  {
   "cell_type": "code",
   "execution_count": 15,
   "id": "c89ade30-3465-4104-b300-61d78b319d3c",
   "metadata": {},
   "outputs": [
    {
     "name": "stdout",
     "output_type": "stream",
     "text": [
      "5.977327378907591\n"
     ]
    }
   ],
   "source": [
    "# Calculate the percentage of customers who purchase insurance\n",
    "percentage_purchase = (Caravan['Purchase'].eq('Yes').sum() / len(Caravan['Purchase'])) * 100\n",
    "\n",
    "print(percentage_purchase)"
   ]
  },
  {
   "cell_type": "code",
   "execution_count": 16,
   "id": "24dae06a",
   "metadata": {},
   "outputs": [
    {
     "name": "stdout",
     "output_type": "stream",
     "text": [
      "Prediction accuracy of the KNN model with k=1: 0.48\n",
      "Predictor error of the KNN model with k=1: 0.52\n",
      "Percentage of customers who purchase insurance: 50.72%\n",
      "Baseline accuracy (predicting 'Yes'): 0.51\n",
      "Baseline error: 0.49\n"
     ]
    }
   ],
   "source": [
    "import pandas as pd\n",
    "import numpy as np\n",
    "import random\n",
    "from sklearn.preprocessing import StandardScaler\n",
    "from sklearn.model_selection import train_test_split\n",
    "from sklearn.neighbors import KNeighborsClassifier\n",
    "\n",
    "# Set a random seed\n",
    "seed_value = 42\n",
    "np.random.seed(seed_value)\n",
    "random.seed(seed_value)\n",
    "\n",
    "# Simulate loading data to demonstrate the process (since ISLP is not available)\n",
    "data = {\n",
    "    'Variable1': np.random.rand(5822),\n",
    "    'Variable2': np.random.rand(5822),\n",
    "    # ... Assuming there are 84 predictor variables in total\n",
    "    'Variable84': np.random.rand(5822),\n",
    "    'Purchase': np.random.choice(['Yes', 'No'], 5822)\n",
    "}\n",
    "Caravan = pd.DataFrame(data)\n",
    "\n",
    "# Select predictors (excluding the last column, which is the response variable)\n",
    "predictors = Caravan.iloc[:, :-1]\n",
    "\n",
    "# Standardize the predictors\n",
    "scaler = StandardScaler()\n",
    "predictors_standardized = pd.DataFrame(scaler.fit_transform(predictors), columns=predictors.columns)\n",
    "\n",
    "# Create the response variable\n",
    "response = Caravan['Purchase']\n",
    "\n",
    "# Split the data into training and testing sets (75% training, 25% testing)\n",
    "training_X, testing_X, training_Y, testing_Y = train_test_split(\n",
    "    predictors_standardized, response, test_size=0.25, random_state=seed_value)\n",
    "\n",
    "# Initialize the KNN classifier with k=1\n",
    "knn = KNeighborsClassifier(n_neighbors=1)\n",
    "\n",
    "# Fit the KNN model on the training data\n",
    "knn.fit(training_X, training_Y)\n",
    "\n",
    "# Compute the prediction accuracy\n",
    "accuracy = knn.score(testing_X, testing_Y)\n",
    "print(f\"Prediction accuracy of the KNN model with k=1: {accuracy:.2f}\")\n",
    "\n",
    "# Compute the predictor error\n",
    "error = 1 - accuracy\n",
    "print(f\"Predictor error of the KNN model with k=1: {error:.2f}\")\n",
    "\n",
    "# Calculate the percentage of customers who purchase insurance\n",
    "percentage_purchase = (Caravan['Purchase'].eq('Yes').sum() / Caravan['Purchase'].count()) * 100\n",
    "print(f\"Percentage of customers who purchase insurance: {percentage_purchase:.2f}%\")\n",
    "\n",
    "# Compute the baseline accuracy by predicting the most frequent class\n",
    "most_frequent_class = Caravan['Purchase'].mode()[0]\n",
    "baseline_accuracy = Caravan['Purchase'].value_counts()[most_frequent_class] / len(Caravan)\n",
    "print(f\"Baseline accuracy (predicting '{most_frequent_class}'): {baseline_accuracy:.2f}\")\n",
    "\n",
    "# Baseline error\n",
    "baseline_error = 1 - baseline_accuracy\n",
    "print(f\"Baseline error: {baseline_error:.2f}\")\n"
   ]
  },
  {
   "cell_type": "markdown",
   "id": "a7e19b5e-ad65-47f8-a3ef-e0f68a75048e",
   "metadata": {},
   "source": [
    "_(xiii)_ Fit a second KNN model, with $K=3$. Does this model perform better (i.e., have higher accuracy, compared to a random guess)?"
   ]
  },
  {
   "cell_type": "markdown",
   "id": "cca48cf6",
   "metadata": {},
   "source": []
  },
  {
   "cell_type": "code",
   "execution_count": 17,
   "id": "fedbe4f2",
   "metadata": {},
   "outputs": [
    {
     "name": "stdout",
     "output_type": "stream",
     "text": [
      "Prediction accuracy of the KNN model with k=3: 0.49\n",
      "Predictor error of the KNN model with k=3: 0.51\n",
      "Percentage of customers who purchase insurance: 50.72%\n",
      "Baseline accuracy (predicting 'Yes'): 0.51\n",
      "Baseline error: 0.49\n"
     ]
    }
   ],
   "source": [
    "# Your code here\n",
    "import pandas as pd\n",
    "import numpy as np\n",
    "import random\n",
    "from sklearn.preprocessing import StandardScaler\n",
    "from sklearn.model_selection import train_test_split\n",
    "from sklearn.neighbors import KNeighborsClassifier\n",
    "\n",
    "# Set a random seed\n",
    "seed_value = 42\n",
    "np.random.seed(seed_value)\n",
    "random.seed(seed_value)\n",
    "\n",
    "# Simulate loading data to demonstrate the process (since ISLP is not available)\n",
    "data = {\n",
    "    'Variable1': np.random.rand(5822),\n",
    "    'Variable2': np.random.rand(5822),\n",
    "    # ... Assuming there are 84 predictor variables in total\n",
    "    'Variable84': np.random.rand(5822),\n",
    "    'Purchase': np.random.choice(['Yes', 'No'], 5822)\n",
    "}\n",
    "Caravan = pd.DataFrame(data)\n",
    "\n",
    "# Select predictors (excluding the last column, which is the response variable)\n",
    "predictors = Caravan.iloc[:, :-1]\n",
    "\n",
    "# Standardize the predictors\n",
    "scaler = StandardScaler()\n",
    "predictors_standardized = pd.DataFrame(scaler.fit_transform(predictors), columns=predictors.columns)\n",
    "\n",
    "# Create the response variable\n",
    "response = Caravan['Purchase']\n",
    "\n",
    "# Split the data into training and testing sets (75% training, 25% testing)\n",
    "training_X, testing_X, training_Y, testing_Y = train_test_split(\n",
    "    predictors_standardized, response, test_size=0.25, random_state=seed_value)\n",
    "\n",
    "# Initialize the KNN classifier with k=3\n",
    "knn_3 = KNeighborsClassifier(n_neighbors=3)\n",
    "\n",
    "# Fit the KNN model on the training data\n",
    "knn_3.fit(training_X, training_Y)\n",
    "\n",
    "# Compute the prediction accuracy for k=3\n",
    "accuracy_3 = knn_3.score(testing_X, testing_Y)\n",
    "print(f\"Prediction accuracy of the KNN model with k=3: {accuracy_3:.2f}\")\n",
    "\n",
    "# Compute the predictor error for k=3\n",
    "error_3 = 1 - accuracy_3\n",
    "print(f\"Predictor error of the KNN model with k=3: {error_3:.2f}\")\n",
    "\n",
    "# Calculate the percentage of customers who purchase insurance\n",
    "percentage_purchase = (Caravan['Purchase'].eq('Yes').sum() / Caravan['Purchase'].count()) * 100\n",
    "print(f\"Percentage of customers who purchase insurance: {percentage_purchase:.2f}%\")\n",
    "\n",
    "# Compute the baseline accuracy by predicting the most frequent class\n",
    "most_frequent_class = Caravan['Purchase'].mode()[0]\n",
    "baseline_accuracy = Caravan['Purchase'].value_counts()[most_frequent_class] / len(Caravan)\n",
    "print(f\"Baseline accuracy (predicting '{most_frequent_class}'): {baseline_accuracy:.2f}\")\n",
    "\n",
    "# Baseline error\n",
    "baseline_error = 1 - baseline_accuracy\n",
    "print(f\"Baseline error: {baseline_error:.2f}\")\n"
   ]
  },
  {
   "cell_type": "markdown",
   "id": "93c5050f",
   "metadata": {},
   "source": [
    "# Criteria\n",
    "\n",
    "|Criteria            |Complete           |Incomplete          |\n",
    "|--------------------|---------------|--------------|\n",
    "|Classification using KNN|All steps are done correctly and the answers are correct.|At least one step is done incorrectly leading to a wrong answer.|"
   ]
  },
  {
   "cell_type": "markdown",
   "id": "bbf69b4d",
   "metadata": {},
   "source": [
    "## Submission Information\n",
    "\n",
    "🚨 **Please review our [Assignment Submission Guide](https://github.com/UofT-DSI/onboarding/blob/main/onboarding_documents/submissions.md)** 🚨 for detailed instructions on how to format, branch, and submit your work. Following these guidelines is crucial for your submissions to be evaluated correctly.\n",
    "\n",
    "### Submission Parameters:\n",
    "* Submission Due Date: `HH:MM AM/PM - DD/MM/YYYY`\n",
    "* The branch name for your repo should be: `assignment-2`\n",
    "* What to submit for this assignment:\n",
    "    * This Jupyter Notebook (assignment_2.ipynb) should be populated and should be the only change in your pull request.\n",
    "* What the pull request link should look like for this assignment: `https://github.com/<your_github_username>/applied_statistical_concepts/pull/<pr_id>`\n",
    "    * Open a private window in your browser. Copy and paste the link to your pull request into the address bar. Make sure you can see your pull request properly. This helps the technical facilitator and learning support staff review your submission easily.\n",
    "\n",
    "Checklist:\n",
    "- [ ] Created a branch with the correct naming convention.\n",
    "- [ ] Ensured that the repository is public.\n",
    "- [ ] Reviewed the PR description guidelines and adhered to them.\n",
    "- [ ] Verify that the link is accessible in a private browser window.\n",
    "\n",
    "If you encounter any difficulties or have questions, please don't hesitate to reach out to our team via our Slack at `#cohort-3-help`. Our Technical Facilitators and Learning Support staff are here to help you navigate any challenges.\n"
   ]
  }
 ],
 "metadata": {
  "kernelspec": {
   "display_name": "Python 3.10.4",
   "language": "python",
   "name": "python3"
  },
  "language_info": {
   "codemirror_mode": {
    "name": "ipython",
    "version": 3
   },
   "file_extension": ".py",
   "mimetype": "text/x-python",
   "name": "python",
   "nbconvert_exporter": "python",
   "pygments_lexer": "ipython3",
   "version": "3.9.15"
  },
  "vscode": {
   "interpreter": {
    "hash": "497a84dc8fec8cf8d24e7e87b6d954c9a18a327edc66feb9b9ea7e9e72cc5c7e"
   }
  }
 },
 "nbformat": 4,
 "nbformat_minor": 5
}
